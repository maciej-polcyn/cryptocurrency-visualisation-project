{
 "cells": [
  {
   "cell_type": "code",
   "execution_count": 1,
   "id": "7521b958-1f6f-41cf-82fc-ad80cbdcc241",
   "metadata": {
    "tags": []
   },
   "outputs": [],
   "source": [
    "import pandas as pd\n",
    "from sqlalchemy import create_engine"
   ]
  },
  {
   "cell_type": "code",
   "execution_count": 8,
   "id": "78edc6fd-869f-4e24-9b3b-6ca945ed9070",
   "metadata": {
    "tags": []
   },
   "outputs": [],
   "source": [
    "server = 'DESKTOP-U2JV8HI\\\\SQLEXPRESS'  # Note the double backslash for escaping\n",
    "database = 'cryptoUpdated'\n",
    "\n",
    "# Construct the connection string\n",
    "connection_string = f'DRIVER=SQL Server;SERVER={server};DATABASE={database};Trusted_Connection=yes;'\n",
    "\n",
    "# Create a SQLAlchemy engine using the connection string\n",
    "engine = create_engine(f'mssql+pyodbc:///?odbc_connect={connection_string}')"
   ]
  },
  {
   "cell_type": "code",
   "execution_count": 13,
   "id": "e4779e18-12d4-4eb5-be72-47e275341998",
   "metadata": {
    "tags": []
   },
   "outputs": [],
   "source": [
    "# SQL query to fetch data\n",
    "query = \"SELECT * FROM cryptoUpdated.dbo.currencies;\"\n",
    "\n",
    "# Use SQLAlchemy to execute the query and load data into a DataFrame\n",
    "curr = pd.read_sql(query, engine)"
   ]
  },
  {
   "cell_type": "code",
   "execution_count": 14,
   "id": "18ddc1d7-7739-467a-bc01-7bc02e6c82f7",
   "metadata": {
    "tags": []
   },
   "outputs": [
    {
     "data": {
      "text/html": [
       "<div>\n",
       "<style scoped>\n",
       "    .dataframe tbody tr th:only-of-type {\n",
       "        vertical-align: middle;\n",
       "    }\n",
       "\n",
       "    .dataframe tbody tr th {\n",
       "        vertical-align: top;\n",
       "    }\n",
       "\n",
       "    .dataframe thead th {\n",
       "        text-align: right;\n",
       "    }\n",
       "</style>\n",
       "<table border=\"1\" class=\"dataframe\">\n",
       "  <thead>\n",
       "    <tr style=\"text-align: right;\">\n",
       "      <th></th>\n",
       "      <th>code</th>\n",
       "      <th>name</th>\n",
       "      <th>capitalisation</th>\n",
       "      <th>cap_order</th>\n",
       "    </tr>\n",
       "  </thead>\n",
       "  <tbody>\n",
       "    <tr>\n",
       "      <th>0</th>\n",
       "      <td>ADA</td>\n",
       "      <td>cardano</td>\n",
       "      <td>High</td>\n",
       "      <td>1</td>\n",
       "    </tr>\n",
       "    <tr>\n",
       "      <th>1</th>\n",
       "      <td>ALGO</td>\n",
       "      <td>algorand</td>\n",
       "      <td>Medium</td>\n",
       "      <td>2</td>\n",
       "    </tr>\n",
       "    <tr>\n",
       "      <th>2</th>\n",
       "      <td>APE</td>\n",
       "      <td>apecoin</td>\n",
       "      <td>Medium</td>\n",
       "      <td>2</td>\n",
       "    </tr>\n",
       "    <tr>\n",
       "      <th>3</th>\n",
       "      <td>ATOM</td>\n",
       "      <td>cosmos</td>\n",
       "      <td>Medium</td>\n",
       "      <td>2</td>\n",
       "    </tr>\n",
       "    <tr>\n",
       "      <th>4</th>\n",
       "      <td>AVL</td>\n",
       "      <td>avalanche-2</td>\n",
       "      <td>Medium</td>\n",
       "      <td>2</td>\n",
       "    </tr>\n",
       "  </tbody>\n",
       "</table>\n",
       "</div>"
      ],
      "text/plain": [
       "   code         name capitalisation  cap_order\n",
       "0   ADA      cardano           High          1\n",
       "1  ALGO     algorand         Medium          2\n",
       "2   APE      apecoin         Medium          2\n",
       "3  ATOM       cosmos         Medium          2\n",
       "4   AVL  avalanche-2         Medium          2"
      ]
     },
     "execution_count": 14,
     "metadata": {},
     "output_type": "execute_result"
    }
   ],
   "source": [
    "curr.head()"
   ]
  },
  {
   "cell_type": "code",
   "execution_count": 15,
   "id": "8adcfe4c-94c0-433b-914f-086d2b019b2b",
   "metadata": {
    "tags": []
   },
   "outputs": [],
   "source": [
    "# SQL query to fetch data\n",
    "query = \"SELECT * FROM cryptoUpdated.dbo.dateRange;\"\n",
    "\n",
    "# Use SQLAlchemy to execute the query and load data into a DataFrame\n",
    "date = pd.read_sql(query, engine)"
   ]
  },
  {
   "cell_type": "code",
   "execution_count": 16,
   "id": "bfedfb7c-a674-4d24-8fc5-42e4be976e7e",
   "metadata": {
    "tags": []
   },
   "outputs": [
    {
     "data": {
      "text/html": [
       "<div>\n",
       "<style scoped>\n",
       "    .dataframe tbody tr th:only-of-type {\n",
       "        vertical-align: middle;\n",
       "    }\n",
       "\n",
       "    .dataframe tbody tr th {\n",
       "        vertical-align: top;\n",
       "    }\n",
       "\n",
       "    .dataframe thead th {\n",
       "        text-align: right;\n",
       "    }\n",
       "</style>\n",
       "<table border=\"1\" class=\"dataframe\">\n",
       "  <thead>\n",
       "    <tr style=\"text-align: right;\">\n",
       "      <th></th>\n",
       "      <th>date</th>\n",
       "    </tr>\n",
       "  </thead>\n",
       "  <tbody>\n",
       "    <tr>\n",
       "      <th>0</th>\n",
       "      <td>2015-01-01 00:00:00.0000000</td>\n",
       "    </tr>\n",
       "    <tr>\n",
       "      <th>1</th>\n",
       "      <td>2015-01-02 00:00:00.0000000</td>\n",
       "    </tr>\n",
       "    <tr>\n",
       "      <th>2</th>\n",
       "      <td>2015-01-03 00:00:00.0000000</td>\n",
       "    </tr>\n",
       "    <tr>\n",
       "      <th>3</th>\n",
       "      <td>2015-01-04 00:00:00.0000000</td>\n",
       "    </tr>\n",
       "    <tr>\n",
       "      <th>4</th>\n",
       "      <td>2015-01-05 00:00:00.0000000</td>\n",
       "    </tr>\n",
       "  </tbody>\n",
       "</table>\n",
       "</div>"
      ],
      "text/plain": [
       "                          date\n",
       "0  2015-01-01 00:00:00.0000000\n",
       "1  2015-01-02 00:00:00.0000000\n",
       "2  2015-01-03 00:00:00.0000000\n",
       "3  2015-01-04 00:00:00.0000000\n",
       "4  2015-01-05 00:00:00.0000000"
      ]
     },
     "execution_count": 16,
     "metadata": {},
     "output_type": "execute_result"
    }
   ],
   "source": [
    "date.head()"
   ]
  },
  {
   "cell_type": "code",
   "execution_count": 17,
   "id": "4341289f-4444-4575-add2-75cd9b15421a",
   "metadata": {
    "tags": []
   },
   "outputs": [],
   "source": [
    "# SQL query to fetch data\n",
    "query = \"SELECT * FROM cryptoUpdated.dbo.marketPrices;\"\n",
    "\n",
    "# Use SQLAlchemy to execute the query and load data into a DataFrame\n",
    "market = pd.read_sql(query, engine)"
   ]
  },
  {
   "cell_type": "code",
   "execution_count": 18,
   "id": "dd903cc2-47a2-4ad7-8c6f-9e0626bbacc5",
   "metadata": {
    "tags": []
   },
   "outputs": [
    {
     "data": {
      "text/html": [
       "<div>\n",
       "<style scoped>\n",
       "    .dataframe tbody tr th:only-of-type {\n",
       "        vertical-align: middle;\n",
       "    }\n",
       "\n",
       "    .dataframe tbody tr th {\n",
       "        vertical-align: top;\n",
       "    }\n",
       "\n",
       "    .dataframe thead th {\n",
       "        text-align: right;\n",
       "    }\n",
       "</style>\n",
       "<table border=\"1\" class=\"dataframe\">\n",
       "  <thead>\n",
       "    <tr style=\"text-align: right;\">\n",
       "      <th></th>\n",
       "      <th>date</th>\n",
       "      <th>currency</th>\n",
       "      <th>price</th>\n",
       "      <th>total_volume</th>\n",
       "      <th>market_cap</th>\n",
       "    </tr>\n",
       "  </thead>\n",
       "  <tbody>\n",
       "    <tr>\n",
       "      <th>0</th>\n",
       "      <td>2015-01-01 00:00:00.0000000</td>\n",
       "      <td>DOGE</td>\n",
       "      <td>0.000183</td>\n",
       "      <td>2.838455e+05</td>\n",
       "      <td>1.780332e+07</td>\n",
       "    </tr>\n",
       "    <tr>\n",
       "      <th>1</th>\n",
       "      <td>2015-01-01 00:00:00.0000000</td>\n",
       "      <td>XLM</td>\n",
       "      <td>0.005498</td>\n",
       "      <td>8.877137e+03</td>\n",
       "      <td>1.955719e+07</td>\n",
       "    </tr>\n",
       "    <tr>\n",
       "      <th>2</th>\n",
       "      <td>2015-01-01 00:00:00.0000000</td>\n",
       "      <td>XRP</td>\n",
       "      <td>0.024376</td>\n",
       "      <td>4.332450e+05</td>\n",
       "      <td>7.551215e+08</td>\n",
       "    </tr>\n",
       "    <tr>\n",
       "      <th>3</th>\n",
       "      <td>2015-01-01 00:00:00.0000000</td>\n",
       "      <td>XMR</td>\n",
       "      <td>0.466182</td>\n",
       "      <td>2.589714e+04</td>\n",
       "      <td>2.563381e+06</td>\n",
       "    </tr>\n",
       "    <tr>\n",
       "      <th>4</th>\n",
       "      <td>2015-01-01 00:00:00.0000000</td>\n",
       "      <td>LTC</td>\n",
       "      <td>2.713621</td>\n",
       "      <td>1.382349e+06</td>\n",
       "      <td>9.559802e+07</td>\n",
       "    </tr>\n",
       "  </tbody>\n",
       "</table>\n",
       "</div>"
      ],
      "text/plain": [
       "                          date currency     price  total_volume    market_cap\n",
       "0  2015-01-01 00:00:00.0000000     DOGE  0.000183  2.838455e+05  1.780332e+07\n",
       "1  2015-01-01 00:00:00.0000000      XLM  0.005498  8.877137e+03  1.955719e+07\n",
       "2  2015-01-01 00:00:00.0000000      XRP  0.024376  4.332450e+05  7.551215e+08\n",
       "3  2015-01-01 00:00:00.0000000      XMR  0.466182  2.589714e+04  2.563381e+06\n",
       "4  2015-01-01 00:00:00.0000000      LTC  2.713621  1.382349e+06  9.559802e+07"
      ]
     },
     "execution_count": 18,
     "metadata": {},
     "output_type": "execute_result"
    }
   ],
   "source": [
    "market.head()"
   ]
  },
  {
   "cell_type": "code",
   "execution_count": 30,
   "id": "45194d8c-fc20-47de-bbbc-cdaf5fb31f17",
   "metadata": {
    "tags": []
   },
   "outputs": [],
   "source": [
    "btc = market[market['currency'] == 'BTC'][['date','price']]\n",
    "eth = market[market['currency'] == 'ETH'][['date','price']]"
   ]
  },
  {
   "cell_type": "code",
   "execution_count": 39,
   "id": "596f7ee0-c9d4-4d95-bb5d-081b9fe8b237",
   "metadata": {
    "tags": []
   },
   "outputs": [],
   "source": [
    "both = eth.merge(btc, how='inner', on='date', suffixes=('_eth', '_btc'))"
   ]
  },
  {
   "cell_type": "code",
   "execution_count": 41,
   "id": "19c9ccdd-8ed1-4d99-8e25-9680abbcfa5c",
   "metadata": {
    "tags": []
   },
   "outputs": [
    {
     "data": {
      "text/html": [
       "<div>\n",
       "<style scoped>\n",
       "    .dataframe tbody tr th:only-of-type {\n",
       "        vertical-align: middle;\n",
       "    }\n",
       "\n",
       "    .dataframe tbody tr th {\n",
       "        vertical-align: top;\n",
       "    }\n",
       "\n",
       "    .dataframe thead th {\n",
       "        text-align: right;\n",
       "    }\n",
       "</style>\n",
       "<table border=\"1\" class=\"dataframe\">\n",
       "  <thead>\n",
       "    <tr style=\"text-align: right;\">\n",
       "      <th></th>\n",
       "      <th>price_eth</th>\n",
       "      <th>price_btc</th>\n",
       "    </tr>\n",
       "  </thead>\n",
       "  <tbody>\n",
       "    <tr>\n",
       "      <th>price_eth</th>\n",
       "      <td>1.000000</td>\n",
       "      <td>0.939234</td>\n",
       "    </tr>\n",
       "    <tr>\n",
       "      <th>price_btc</th>\n",
       "      <td>0.939234</td>\n",
       "      <td>1.000000</td>\n",
       "    </tr>\n",
       "  </tbody>\n",
       "</table>\n",
       "</div>"
      ],
      "text/plain": [
       "           price_eth  price_btc\n",
       "price_eth   1.000000   0.939234\n",
       "price_btc   0.939234   1.000000"
      ]
     },
     "execution_count": 41,
     "metadata": {},
     "output_type": "execute_result"
    }
   ],
   "source": [
    "both[['price_eth','price_btc']].corr()"
   ]
  },
  {
   "cell_type": "code",
   "execution_count": 29,
   "id": "1660caea-7ae0-418e-8e70-40b6c14529d5",
   "metadata": {
    "tags": []
   },
   "outputs": [],
   "source": [
    "# market[['btc', 'eth']].corr()"
   ]
  },
  {
   "cell_type": "code",
   "execution_count": null,
   "id": "9fffa90b-b49f-4e92-b2dd-3669dbb0295f",
   "metadata": {},
   "outputs": [],
   "source": []
  }
 ],
 "metadata": {
  "kernelspec": {
   "display_name": "Python 3 (ipykernel)",
   "language": "python",
   "name": "python3"
  },
  "language_info": {
   "codemirror_mode": {
    "name": "ipython",
    "version": 3
   },
   "file_extension": ".py",
   "mimetype": "text/x-python",
   "name": "python",
   "nbconvert_exporter": "python",
   "pygments_lexer": "ipython3",
   "version": "3.11.3"
  }
 },
 "nbformat": 4,
 "nbformat_minor": 5
}
